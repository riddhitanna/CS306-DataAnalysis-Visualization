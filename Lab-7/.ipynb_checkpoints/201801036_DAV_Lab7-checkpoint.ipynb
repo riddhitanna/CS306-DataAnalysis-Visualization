{
 "cells": [
  {
   "cell_type": "markdown",
   "metadata": {},
   "source": [
    "<h1><center>Data Analysis and Visualisation</center></h1>\n",
    "<h2><center>Lab 7: MNIST dataset for Dimensionality Reduction using PCA</center></h2>\n",
    "<h4 align=left>Author: Vishwa Shah</h4>\n",
    "<h4 align=left>Id: 201801036</h4>"
   ]
  },
  {
   "cell_type": "code",
   "execution_count": 87,
   "metadata": {},
   "outputs": [],
   "source": [
    "from sklearn.datasets import fetch_openml\n",
    "from sklearn.decomposition import PCA\n",
    "import pandas as pd\n",
    "import numpy as np\n",
    "import matplotlib.pyplot as plt\n",
    "from sklearn.preprocessing import StandardScaler\n",
    "from sklearn.metrics import mean_squared_error"
   ]
  },
  {
   "cell_type": "markdown",
   "metadata": {},
   "source": [
    "### MNIST data set load and read images"
   ]
  },
  {
   "cell_type": "code",
   "execution_count": 136,
   "metadata": {},
   "outputs": [],
   "source": [
    "data=pd.read_csv(r'D:\\mnist_train.csv')"
   ]
  },
  {
   "cell_type": "code",
   "execution_count": 137,
   "metadata": {},
   "outputs": [
    {
     "data": {
      "text/plain": [
       "(59999, 785)"
      ]
     },
     "execution_count": 137,
     "metadata": {},
     "output_type": "execute_result"
    }
   ],
   "source": [
    "data.shape"
   ]
  },
  {
   "cell_type": "markdown",
   "metadata": {},
   "source": [
    "### Fetching MNIST dataset from python ML datasets"
   ]
  },
  {
   "cell_type": "code",
   "execution_count": 5,
   "metadata": {},
   "outputs": [],
   "source": [
    "mnist = fetch_openml('mnist_784')\n",
    "#print(mnist)"
   ]
  },
  {
   "cell_type": "code",
   "execution_count": 134,
   "metadata": {},
   "outputs": [
    {
     "name": "stdout",
     "output_type": "stream",
     "text": [
      "(70000, 784)\n",
      "(70000,)\n"
     ]
    }
   ],
   "source": [
    "# These are the images\n",
    "print(mnist.data.shape)\n",
    "\n",
    "# These are the labels\n",
    "print(mnist.target.shape)"
   ]
  },
  {
   "cell_type": "code",
   "execution_count": 7,
   "metadata": {},
   "outputs": [],
   "source": [
    "scaler = StandardScaler()\n",
    "\n",
    "# Fit on training set only.\n",
    "mnist.data = scaler.fit_transform(mnist.data)"
   ]
  },
  {
   "cell_type": "markdown",
   "metadata": {},
   "source": [
    "### Question 2: Prinipal compenents to preserve specefied varaibility"
   ]
  },
  {
   "cell_type": "code",
   "execution_count": 8,
   "metadata": {},
   "outputs": [],
   "source": [
    "#function to calculate the number of components required\n",
    "def find_components(percentage):\n",
    "    pca=PCA(percentage)\n",
    "    lower_dimensional_data = pca.fit_transform(mnist.data)\n",
    "    return pca.n_components_"
   ]
  },
  {
   "cell_type": "code",
   "execution_count": 12,
   "metadata": {},
   "outputs": [
    {
     "name": "stdout",
     "output_type": "stream",
     "text": [
      "The number of components required to preserve 95% varaibility are:  332\n",
      "The number of components required to preserve 90% varaibility are:  238\n",
      "The number of components required to preserve 80% varaibility are:  150\n",
      "The number of components required to preserve 75% varaibility are:  121\n"
     ]
    }
   ],
   "source": [
    "print(\"The number of components required to preserve 95% varaibility are: \",find_components(0.95))\n",
    "print(\"The number of components required to preserve 90% varaibility are: \",find_components(0.90))\n",
    "print(\"The number of components required to preserve 80% varaibility are: \",find_components(0.80))\n",
    "print(\"The number of components required to preserve 75% varaibility are: \",find_components(0.75))"
   ]
  },
  {
   "cell_type": "markdown",
   "metadata": {},
   "source": [
    "### Question 3 and Quesion 4: Encoding and Decoding the images"
   ]
  },
  {
   "cell_type": "code",
   "execution_count": 18,
   "metadata": {},
   "outputs": [],
   "source": [
    "def explainedVariance(percentage, images): \n",
    "    # percentage should be a decimal from 0 to 1 \n",
    "    pca = PCA(percentage)\n",
    "    pca.fit(images)\n",
    "    components = pca.transform(images)\n",
    "    approxOriginal = pca.inverse_transform(components)\n",
    "    return approxOriginal"
   ]
  },
  {
   "cell_type": "code",
   "execution_count": 127,
   "metadata": {},
   "outputs": [
    {
     "data": {
      "image/png": "[encoded data removed]",
      "text/plain": [
       "<Figure size 432x288 with 1 Axes>"
      ]
     },
     "metadata": {
      "needs_background": "light"
     },
     "output_type": "display_data"
    }
   ],
   "source": [
    "# Original Image (784 components)\n",
    "plt.imshow(mnist.data[1].reshape(28,28), interpolation='nearest');\n",
    "\n",
    "plt.xlabel('784 Components', fontsize = 12)\n",
    "plt.title('Original Image', fontsize = 14);\n",
    "plt.show()\n"
   ]
  },
  {
   "cell_type": "code",
   "execution_count": 128,
   "metadata": {},
   "outputs": [
    {
     "data": {
      "image/png": "[encoded data removed]",
      "text/plain": [
       "<Figure size 432x288 with 1 Axes>"
      ]
     },
     "metadata": {
      "needs_background": "light"
     },
     "output_type": "display_data"
    }
   ],
   "source": [
    "# 332 principal components\n",
    "plt.imshow(explainedVariance(.95, mnist.data)[1].reshape(28, 28), interpolation='nearest');\n",
    "plt.xlabel('332 Components', fontsize = 12)\n",
    "plt.title('95% of Explained Variance', fontsize = 14);\n",
    "plt.show()"
   ]
  },
  {
   "cell_type": "code",
   "execution_count": 129,
   "metadata": {},
   "outputs": [
    {
     "data": {
      "image/png": "[encoded data removed]",
      "text/plain": [
       "<Figure size 432x288 with 1 Axes>"
      ]
     },
     "metadata": {
      "needs_background": "light"
     },
     "output_type": "display_data"
    }
   ],
   "source": [
    "# 238 principal components\n",
    "plt.imshow(explainedVariance(.90, mnist.data)[1].reshape(28, 28), interpolation='nearest');\n",
    "plt.xlabel('238 Components', fontsize = 12)\n",
    "plt.title('90% of Explained Variance', fontsize = 14);\n",
    "plt.show()"
   ]
  },
  {
   "cell_type": "code",
   "execution_count": 130,
   "metadata": {},
   "outputs": [
    {
     "data": {
      "image/png": "[encoded data removed]",
      "text/plain": [
       "<Figure size 432x288 with 1 Axes>"
      ]
     },
     "metadata": {
      "needs_background": "light"
     },
     "output_type": "display_data"
    }
   ],
   "source": [
    "# 150 principal components\n",
    "plt.imshow(explainedVariance(.80, mnist.data)[1].reshape(28, 28), interpolation='nearest');\n",
    "plt.xlabel('150 Components', fontsize = 12)\n",
    "plt.title('80% of Explained Variance', fontsize = 14);\n",
    "plt.show()"
   ]
  },
  {
   "cell_type": "code",
   "execution_count": 131,
   "metadata": {},
   "outputs": [
    {
     "data": {
      "image/png": "[encoded data removed]",
      "text/plain": [
       "<Figure size 432x288 with 1 Axes>"
      ]
     },
     "metadata": {
      "needs_background": "light"
     },
     "output_type": "display_data"
    }
   ],
   "source": [
    "# 121 principal components\n",
    "plt.imshow(explainedVariance(.75, mnist.data)[1].reshape(28, 28), interpolation='nearest');\n",
    "plt.xlabel('121 Components', fontsize = 12)\n",
    "plt.title('75% of Explained Variance', fontsize = 14);\n",
    "plt.show()"
   ]
  },
  {
   "cell_type": "markdown",
   "metadata": {},
   "source": [
    "As seen one image was encoded and decoded using the explained variance defined earlier. As the variability percentage decreases, we see that the reconstructed image gets more blurred. That is the RMSE error increases as comparedd to the original. We will have a look at this in the question below."
   ]
  },
  {
   "cell_type": "markdown",
   "metadata": {},
   "source": [
    "### Question 5: Testing for 10 images and calculating the RMSE"
   ]
  },
  {
   "cell_type": "code",
   "execution_count": 124,
   "metadata": {},
   "outputs": [],
   "source": [
    "var=[0.95,0.90,0.80,0.75]\n",
    "N=10\n",
    "errors= []\n",
    "for i in range(len(var)):\n",
    "    approxOriginal=explainedVariance(var[i], mnist.data)\n",
    "    for j in range(N):\n",
    "        errors.append(mean_squared_error(mnist.data[j],approxOriginal[j]))\n",
    "        #print(mean_squared_error(mnist.data[j],approxOriginal[j]))\n",
    "        "
   ]
  },
  {
   "cell_type": "code",
   "execution_count": 125,
   "metadata": {},
   "outputs": [
    {
     "data": {
      "text/plain": [
       "array([[0.06790129, 0.16284894, 0.31653473, 0.35380651],\n",
       "       [0.02540102, 0.0438689 , 0.0653712 , 0.0771193 ],\n",
       "       [0.09091692, 0.19546321, 0.39749866, 0.50701179],\n",
       "       [0.01384572, 0.02178526, 0.0372899 , 0.0445486 ],\n",
       "       [0.04051414, 0.08396059, 0.16225029, 0.18621695],\n",
       "       [0.04654196, 0.09065593, 0.15039242, 0.18190898],\n",
       "       [0.01674691, 0.02348203, 0.03913468, 0.04806668],\n",
       "       [0.03031494, 0.05504399, 0.07675603, 0.08292538],\n",
       "       [0.01274668, 0.02131321, 0.03272557, 0.03784684],\n",
       "       [0.04259208, 0.09051194, 0.14053551, 0.16349052]])"
      ]
     },
     "execution_count": 125,
     "metadata": {},
     "output_type": "execute_result"
    }
   ],
   "source": [
    "error = np.reshape(errors, (4, 10)).T\n",
    "error"
   ]
  },
  {
   "cell_type": "code",
   "execution_count": 126,
   "metadata": {},
   "outputs": [
    {
     "data": {
      "text/html": [
       "<div>\n",
       "<style scoped>\n",
       "    .dataframe tbody tr th:only-of-type {\n",
       "        vertical-align: middle;\n",
       "    }\n",
       "\n",
       "    .dataframe tbody tr th {\n",
       "        vertical-align: top;\n",
       "    }\n",
       "\n",
       "    .dataframe thead th {\n",
       "        text-align: right;\n",
       "    }\n",
       "</style>\n",
       "<table border=\"1\" class=\"dataframe\">\n",
       "  <thead>\n",
       "    <tr style=\"text-align: right;\">\n",
       "      <th></th>\n",
       "      <th>95</th>\n",
       "      <th>90</th>\n",
       "      <th>80</th>\n",
       "      <th>75</th>\n",
       "    </tr>\n",
       "  </thead>\n",
       "  <tbody>\n",
       "    <tr>\n",
       "      <th>0</th>\n",
       "      <td>0.067901</td>\n",
       "      <td>0.162849</td>\n",
       "      <td>0.316535</td>\n",
       "      <td>0.353807</td>\n",
       "    </tr>\n",
       "    <tr>\n",
       "      <th>1</th>\n",
       "      <td>0.025401</td>\n",
       "      <td>0.043869</td>\n",
       "      <td>0.065371</td>\n",
       "      <td>0.077119</td>\n",
       "    </tr>\n",
       "    <tr>\n",
       "      <th>2</th>\n",
       "      <td>0.090917</td>\n",
       "      <td>0.195463</td>\n",
       "      <td>0.397499</td>\n",
       "      <td>0.507012</td>\n",
       "    </tr>\n",
       "    <tr>\n",
       "      <th>3</th>\n",
       "      <td>0.013846</td>\n",
       "      <td>0.021785</td>\n",
       "      <td>0.037290</td>\n",
       "      <td>0.044549</td>\n",
       "    </tr>\n",
       "    <tr>\n",
       "      <th>4</th>\n",
       "      <td>0.040514</td>\n",
       "      <td>0.083961</td>\n",
       "      <td>0.162250</td>\n",
       "      <td>0.186217</td>\n",
       "    </tr>\n",
       "    <tr>\n",
       "      <th>5</th>\n",
       "      <td>0.046542</td>\n",
       "      <td>0.090656</td>\n",
       "      <td>0.150392</td>\n",
       "      <td>0.181909</td>\n",
       "    </tr>\n",
       "    <tr>\n",
       "      <th>6</th>\n",
       "      <td>0.016747</td>\n",
       "      <td>0.023482</td>\n",
       "      <td>0.039135</td>\n",
       "      <td>0.048067</td>\n",
       "    </tr>\n",
       "    <tr>\n",
       "      <th>7</th>\n",
       "      <td>0.030315</td>\n",
       "      <td>0.055044</td>\n",
       "      <td>0.076756</td>\n",
       "      <td>0.082925</td>\n",
       "    </tr>\n",
       "    <tr>\n",
       "      <th>8</th>\n",
       "      <td>0.012747</td>\n",
       "      <td>0.021313</td>\n",
       "      <td>0.032726</td>\n",
       "      <td>0.037847</td>\n",
       "    </tr>\n",
       "    <tr>\n",
       "      <th>9</th>\n",
       "      <td>0.042592</td>\n",
       "      <td>0.090512</td>\n",
       "      <td>0.140536</td>\n",
       "      <td>0.163491</td>\n",
       "    </tr>\n",
       "  </tbody>\n",
       "</table>\n",
       "</div>"
      ],
      "text/plain": [
       "         95        90        80        75\n",
       "0  0.067901  0.162849  0.316535  0.353807\n",
       "1  0.025401  0.043869  0.065371  0.077119\n",
       "2  0.090917  0.195463  0.397499  0.507012\n",
       "3  0.013846  0.021785  0.037290  0.044549\n",
       "4  0.040514  0.083961  0.162250  0.186217\n",
       "5  0.046542  0.090656  0.150392  0.181909\n",
       "6  0.016747  0.023482  0.039135  0.048067\n",
       "7  0.030315  0.055044  0.076756  0.082925\n",
       "8  0.012747  0.021313  0.032726  0.037847\n",
       "9  0.042592  0.090512  0.140536  0.163491"
      ]
     },
     "execution_count": 126,
     "metadata": {},
     "output_type": "execute_result"
    }
   ],
   "source": [
    "pd.DataFrame(error,columns=['95','90','80','75'])"
   ]
  },
  {
   "cell_type": "markdown",
   "metadata": {},
   "source": [
    "As seen, for a particular image, as the percentage of variability decreases, the RMSE error increases. So more the percentage, more the components we are using and hence more data is preserved."
   ]
  }
 ],
 "metadata": {
  "kernelspec": {
   "display_name": "Python 3",
   "language": "python",
   "name": "python3"
  },
  "language_info": {
   "codemirror_mode": {
    "name": "ipython",
    "version": 3
   },
   "file_extension": ".py",
   "mimetype": "text/x-python",
   "name": "python",
   "nbconvert_exporter": "python",
   "pygments_lexer": "ipython3",
   "version": "3.7.1"
  }
 },
 "nbformat": 4,
 "nbformat_minor": 2
}
