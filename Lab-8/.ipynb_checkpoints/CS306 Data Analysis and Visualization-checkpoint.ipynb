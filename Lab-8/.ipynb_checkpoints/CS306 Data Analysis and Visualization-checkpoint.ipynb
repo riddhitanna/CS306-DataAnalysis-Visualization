{
 "cells": [
  {
   "cell_type": "markdown",
   "id": "renewable-berlin",
   "metadata": {},
   "source": [
    "K-means clustering\n",
    "---\n",
    "___\n",
    "**Riddhi Tanna**\n",
    "\n",
    "**201801427**"
   ]
  },
  {
   "cell_type": "code",
   "execution_count": 2,
   "id": "charged-planet",
   "metadata": {},
   "outputs": [],
   "source": [
    "import numpy as np \n",
    "import random \n",
    "import matplotlib.pyplot as plt"
   ]
  },
  {
   "cell_type": "code",
   "execution_count": 3,
   "id": "modern-consequence",
   "metadata": {},
   "outputs": [],
   "source": [
    "X = [10,14,8,12,15,12,15,17,5,18,22,25,35,21,39,27,25,33,30,36]\n",
    "Y = [8,25,10,30,35,12,14,15,22,32,2,21,35,7,15,29,33,23,17,11]"
   ]
  },
  {
   "cell_type": "code",
   "execution_count": 4,
   "id": "heated-greene",
   "metadata": {},
   "outputs": [
    {
     "data": {
      "image/png": "[encoded data removed]",
      "text/plain": [
       "<Figure size 576x576 with 1 Axes>"
      ]
     },
     "metadata": {
      "needs_background": "light"
     },
     "output_type": "display_data"
    }
   ],
   "source": [
    "# plotting the scatter plot \n",
    "fig, ax = plt.subplots(figsize=[8,8])\n",
    "\n",
    "plt.scatter(X, Y, color='b')\n",
    "\n",
    "plt.grid()\n",
    "plt.xlabel('X', fontsize = 15)\n",
    "plt.ylabel('Y', fontsize = 15)\n",
    "plt.xticks(fontsize=15)\n",
    "plt.yticks(fontsize=15)\n",
    "plt.title('Original data', fontsize = 15)\n",
    "#plt.legend()\n",
    "plt.show()"
   ]
  },
  {
   "cell_type": "code",
   "execution_count": 5,
   "id": "north-illustration",
   "metadata": {},
   "outputs": [],
   "source": [
    "# selecting the number of clusters - keeping it fixed for now \n",
    "k = 3 \n",
    "#selecting k random indices as the centroids of the clusters\n",
    "cluster_centroids = np.random.randint(0,len(X)-1,k)\n",
    "clusters = np.array(k)"
   ]
  },
  {
   "cell_type": "code",
   "execution_count": null,
   "id": "short-startup",
   "metadata": {},
   "outputs": [],
   "source": [
    "for i in range(len(X)):\n",
    "    \n",
    "        \n",
    "        "
   ]
  }
 ],
 "metadata": {
  "kernelspec": {
   "display_name": "Python 3",
   "language": "python",
   "name": "python3"
  },
  "language_info": {
   "codemirror_mode": {
    "name": "ipython",
    "version": 3
   },
   "file_extension": ".py",
   "mimetype": "text/x-python",
   "name": "python",
   "nbconvert_exporter": "python",
   "pygments_lexer": "ipython3",
   "version": "3.6.4"
  }
 },
 "nbformat": 4,
 "nbformat_minor": 5
}
